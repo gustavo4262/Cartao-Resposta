{
 "cells": [
  {
   "cell_type": "markdown",
   "id": "c7553631-144c-429d-9d08-6428a9a78d79",
   "metadata": {},
   "source": [
    "# 1) Import libraries"
   ]
  },
  {
   "cell_type": "code",
   "execution_count": 1,
   "id": "cd8e663f-9670-4e25-9003-d7fa6c58af2c",
   "metadata": {},
   "outputs": [],
   "source": [
    "import qrcode\n",
    "import json\n",
    "import cv2 as cv\n",
    "import matplotlib.pyplot as plt\n",
    "import numpy as np"
   ]
  },
  {
   "cell_type": "markdown",
   "id": "c03f57ad-927e-4e73-a64e-33c275fcbcf6",
   "metadata": {},
   "source": [
    "# 2) Generate QRCode"
   ]
  },
  {
   "cell_type": "code",
   "execution_count": 2,
   "id": "ed522092-3de7-4b3b-8aef-c925fc959f11",
   "metadata": {},
   "outputs": [],
   "source": [
    "data = {\n",
    "    \"name\": \"Aluno Fulano de Tal\",\n",
    "    \"grade\": 8,\n",
    "    \"class\": \"A\"\n",
    "}"
   ]
  },
  {
   "cell_type": "code",
   "execution_count": 3,
   "id": "0f29b774-7633-454d-aad1-678a4ec1a691",
   "metadata": {},
   "outputs": [],
   "source": [
    "json_data = json.dumps(data)"
   ]
  },
  {
   "cell_type": "code",
   "execution_count": 4,
   "id": "ae34b03f-4b86-4e9a-8da6-4874ff26523b",
   "metadata": {},
   "outputs": [
    {
     "data": {
      "text/plain": [
       "'{\"name\": \"Aluno Fulano de Tal\", \"grade\": 8, \"class\": \"A\"}'"
      ]
     },
     "execution_count": 4,
     "metadata": {},
     "output_type": "execute_result"
    }
   ],
   "source": [
    "json_data"
   ]
  },
  {
   "cell_type": "code",
   "execution_count": 5,
   "id": "ea375abf-f0c6-492e-9c7c-d0ccb99a1d00",
   "metadata": {},
   "outputs": [],
   "source": [
    "img = qrcode.make(json_data)"
   ]
  },
  {
   "cell_type": "code",
   "execution_count": 6,
   "id": "98d43155-bf54-42ec-b5ff-59c8e218dd3f",
   "metadata": {},
   "outputs": [
    {
     "data": {
      "image/png": "[encoded data removed]",
      "text/plain": [
       "<qrcode.image.pil.PilImage at 0x7fe5fbd49250>"
      ]
     },
     "execution_count": 6,
     "metadata": {},
     "output_type": "execute_result"
    }
   ],
   "source": [
    "img"
   ]
  },
  {
   "cell_type": "code",
   "execution_count": 7,
   "id": "25fb8229-9d8c-4377-85a6-a92b25574c42",
   "metadata": {},
   "outputs": [],
   "source": [
    "img.save(\"data/QRCodes/newTest.png\")"
   ]
  },
  {
   "cell_type": "markdown",
   "id": "37279efc-1822-4d79-bfa0-074a0bd5cd1b",
   "metadata": {},
   "source": [
    "# 3) Get QRCode from Image"
   ]
  },
  {
   "cell_type": "code",
   "execution_count": 8,
   "id": "96f0c592-26cc-45ce-8dd9-1e04b0fe0b45",
   "metadata": {},
   "outputs": [],
   "source": [
    "image = cv.imread(\"data/QRCodes/Test.png\")"
   ]
  },
  {
   "cell_type": "code",
   "execution_count": 9,
   "id": "2fd1570c-bdf8-416b-8900-ebfb8f8e771b",
   "metadata": {},
   "outputs": [
    {
     "data": {
      "text/plain": [
       "<matplotlib.image.AxesImage at 0x7fe5fadbf5b0>"
      ]
     },
     "execution_count": 9,
     "metadata": {},
     "output_type": "execute_result"
    },
    {
     "data": {
      "image/png": "[encoded data removed]",
      "text/plain": [
       "<Figure size 432x288 with 1 Axes>"
      ]
     },
     "metadata": {
      "needs_background": "light"
     },
     "output_type": "display_data"
    }
   ],
   "source": [
    "fig = plt.figure()\n",
    "ax = fig.add_subplot(111)\n",
    "ax.imshow(image)"
   ]
  },
  {
   "cell_type": "code",
   "execution_count": 10,
   "id": "2eea672e-1de8-49a3-bfca-bf7d865b7608",
   "metadata": {},
   "outputs": [],
   "source": [
    "det = cv.QRCodeDetector()"
   ]
  },
  {
   "cell_type": "code",
   "execution_count": 11,
   "id": "482911ef-283d-4123-8b1d-b18c84c50f74",
   "metadata": {},
   "outputs": [],
   "source": [
    "retval, points, straight_qrcode = det.detectAndDecode(image)"
   ]
  },
  {
   "cell_type": "code",
   "execution_count": 12,
   "id": "7e58ed68-c3bf-4181-b2de-72f45254b094",
   "metadata": {},
   "outputs": [
    {
     "data": {
      "text/plain": [
       "{'name': 'Aluno Fulano de Tal', 'grade': 8, 'class': 'A'}"
      ]
     },
     "execution_count": 12,
     "metadata": {},
     "output_type": "execute_result"
    }
   ],
   "source": [
    "json.loads(retval)"
   ]
  }
 ],
 "metadata": {
  "kernelspec": {
   "display_name": "Python 3",
   "language": "python",
   "name": "python3"
  },
  "language_info": {
   "codemirror_mode": {
    "name": "ipython",
    "version": 3
   },
   "file_extension": ".py",
   "mimetype": "text/x-python",
   "name": "python",
   "nbconvert_exporter": "python",
   "pygments_lexer": "ipython3",
   "version": "3.8.10"
  }
 },
 "nbformat": 4,
 "nbformat_minor": 5
}
